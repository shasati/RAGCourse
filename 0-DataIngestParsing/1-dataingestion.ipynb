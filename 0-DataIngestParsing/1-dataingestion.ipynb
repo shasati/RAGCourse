{
 "cells": [
  {
   "cell_type": "markdown",
   "id": "c2b46c2d",
   "metadata": {},
   "source": [
    "### Introduction to Data Ingestion"
   ]
  },
  {
   "cell_type": "code",
   "execution_count": null,
   "id": "68f0115a",
   "metadata": {},
   "outputs": [],
   "source": [
    "import langchain\n",
    "from typing import List, Dict, Any\n",
    "import pandas as pd"
   ]
  },
  {
   "cell_type": "code",
   "execution_count": 3,
   "id": "cfe58443",
   "metadata": {},
   "outputs": [
    {
     "name": "stdout",
     "output_type": "stream",
     "text": [
      "Set up completed!\n"
     ]
    }
   ],
   "source": [
    "from langchain_core.documents import Document\n",
    "from langchain.text_splitter import(\n",
    " RecursiveCharacterTextSplitter,\n",
    " CharacterTextSplitter,\n",
    " TokenTextSplitter\n",
    ")\n",
    "print(\"Set up completed!\")"
   ]
  },
  {
   "cell_type": "markdown",
   "id": "c7733615",
   "metadata": {},
   "source": [
    "### Understanding Document Structure in Langchain"
   ]
  },
  {
   "cell_type": "code",
   "execution_count": 6,
   "id": "de826d56",
   "metadata": {},
   "outputs": [
    {
     "name": "stdout",
     "output_type": "stream",
     "text": [
      "Document Structure\n",
      "Content: This is the main text content that will be embedded and searched.\n",
      "Content: {'source': 'example.txt', 'page': 1, 'author': 'Shashank', 'date_created': '2025-08-19'}\n"
     ]
    }
   ],
   "source": [
    "## Create a simple document\n",
    "doc = Document(\n",
    "    page_content=\"This is the main text content that will be embedded and searched.\",\n",
    "    metadata={\n",
    "        \"source\":\"example.txt\",\n",
    "        \"page\":1,\n",
    "        \"author\":\"Shashank\",\n",
    "        \"date_created\":\"2025-08-19\"\n",
    "    }\n",
    ")\n",
    "print(\"Document Structure\")\n",
    "print(f\"Content: {doc.page_content}\")\n",
    "print(f\"Content: {doc.metadata}\")"
   ]
  },
  {
   "cell_type": "markdown",
   "id": "859d1375",
   "metadata": {},
   "source": [
    "### Text Files(.txt) - The Simplest Case {#2-text-files}"
   ]
  },
  {
   "cell_type": "code",
   "execution_count": 7,
   "id": "1b0c65dd",
   "metadata": {},
   "outputs": [],
   "source": [
    "## Create a simple txt file\n",
    "import os\n",
    "os.makedirs(\"data/text_file\", exist_ok=True)"
   ]
  },
  {
   "cell_type": "code",
   "execution_count": 9,
   "id": "2b33ac2d",
   "metadata": {},
   "outputs": [
    {
     "name": "stdout",
     "output_type": "stream",
     "text": [
      "Sample file has got created.\n"
     ]
    }
   ],
   "source": [
    "sample_texts = {\n",
    "    \"data/text_file/loadbalancer_intro.txt\": \"\"\"What is a Load Balancer in OCI?\n",
    "\n",
    "The OCI Load Balancer is a fully managed, highly available service that automatically distributes incoming traffic across multiple backend servers in a VCN subnet.\n",
    "It acts as the entry point for your apps, improving availability, scalability, and security.\"\"\"\n",
    "}\n",
    "\n",
    "for filepath, content in sample_texts.items():\n",
    "    with open(filepath, 'w', encoding=\"utf-8\") as f:\n",
    "        f.write(content)\n",
    "\n",
    "print(\"Sample file has got created.\")"
   ]
  },
  {
   "cell_type": "markdown",
   "id": "7e743704",
   "metadata": {},
   "source": [
    "### TextLoader - Read Single File"
   ]
  },
  {
   "cell_type": "code",
   "execution_count": 15,
   "id": "892287c3",
   "metadata": {},
   "outputs": [
    {
     "name": "stdout",
     "output_type": "stream",
     "text": [
      "Loaded 1 document\n",
      "Content preview: What is a Load Balancer in OCI?\n",
      "\n",
      "The OCI Load Balancer is a fully managed, highly available service ...\n",
      "Metadata: {'source': 'data/text_file/loadbalancer_intro.txt'}\n"
     ]
    }
   ],
   "source": [
    "from langchain.document_loaders import TextLoader\n",
    "from langchain_community.document_loaders import TextLoader # Another way to import\n",
    "\n",
    "## Loading a single text file\n",
    "loader = TextLoader(\"data/text_file/loadbalancer_intro.txt\", encoding=\"utf-8\")\n",
    "\n",
    "documents = loader.load()\n",
    "# print(type(documents))\n",
    "# print(documents)\n",
    "\n",
    "print(f\"Loaded {len(documents)} document\")\n",
    "print(f\"Content preview: {documents[0].page_content[:100]}...\")\n",
    "print(f\"Metadata: {documents[0].metadata}\")"
   ]
  },
  {
   "cell_type": "markdown",
   "id": "5a48ed62",
   "metadata": {},
   "source": [
    "### Directory Loader - Multiple text files"
   ]
  },
  {
   "cell_type": "code",
   "execution_count": 17,
   "id": "c9ff4d44",
   "metadata": {},
   "outputs": [
    {
     "name": "stderr",
     "output_type": "stream",
     "text": [
      "100%|██████████| 1/1 [00:00<00:00, 922.43it/s]"
     ]
    },
    {
     "name": "stdout",
     "output_type": "stream",
     "text": [
      "Loaded 1 documents\n",
      "\n",
      "Document 1:\n",
      "Source: data\\text_file\\loadbalancer_intro.txt\n",
      "Length: 289 characters\n"
     ]
    },
    {
     "name": "stderr",
     "output_type": "stream",
     "text": [
      "\n"
     ]
    }
   ],
   "source": [
    "from langchain_community.document_loaders import DirectoryLoader\n",
    "\n",
    "## Load all the text files from the dictionary\n",
    "\n",
    "dir_loader=DirectoryLoader(\n",
    "    \"data/text_file\",\n",
    "    glob=\"**/*.txt\", ## Pattern to match the files\n",
    "    loader_cls= TextLoader, ## loader class to use\n",
    "    loader_kwargs={'encoding':'utf-8'},\n",
    "    show_progress=True\n",
    ")\n",
    "\n",
    "documents=dir_loader.load()\n",
    "\n",
    "print(f\"Loaded {len(documents)} documents\")\n",
    "for i, doc in enumerate(documents):\n",
    "    print(f\"\\nDocument {i+1}:\")\n",
    "    print(f\"Source: {doc.metadata['source']}\")\n",
    "    print(f\"Length: {len(doc.page_content)} characters\")"
   ]
  },
  {
   "cell_type": "markdown",
   "id": "2dcca271",
   "metadata": {},
   "source": [
    "### Text Splitting Strategies"
   ]
  },
  {
   "cell_type": "code",
   "execution_count": 23,
   "id": "47c99342",
   "metadata": {},
   "outputs": [
    {
     "name": "stdout",
     "output_type": "stream",
     "text": [
      "[Document(metadata={'source': 'data\\\\text_file\\\\loadbalancer_intro.txt'}, page_content='What is a Load Balancer in OCI?\\n\\nThe OCI Load Balancer is a fully managed, highly available service that automatically distributes incoming traffic across multiple backend servers in a VCN subnet.\\nIt acts as the entry point for your apps, improving availability, scalability, and security.')]\n"
     ]
    }
   ],
   "source": [
    "## Different text splitting strategies\n",
    "\n",
    "from langchain.text_splitter import (\n",
    "    CharacterTextSplitter,\n",
    "    RecursiveCharacterTextSplitter,\n",
    "    TokenTextSplitter\n",
    ")\n",
    "print(documents)"
   ]
  },
  {
   "cell_type": "code",
   "execution_count": 19,
   "id": "b0a7e1ab",
   "metadata": {},
   "outputs": [
    {
     "data": {
      "text/plain": [
       "'What is a Load Balancer in OCI?\\n\\nThe OCI Load Balancer is a fully managed, highly available service that automatically distributes incoming traffic across multiple backend servers in a VCN subnet.\\nIt acts as the entry point for your apps, improving availability, scalability, and security.'"
      ]
     },
     "execution_count": 19,
     "metadata": {},
     "output_type": "execute_result"
    }
   ],
   "source": [
    "### Method 1 - Character Text Splitter\n",
    "text = documents[0].page_content\n",
    "text"
   ]
  },
  {
   "cell_type": "code",
   "execution_count": null,
   "id": "66e50710",
   "metadata": {},
   "outputs": [
    {
     "name": "stdout",
     "output_type": "stream",
     "text": [
      " CHARACTER TEXT SPLITTER \n",
      "Created 2 document\n",
      "First chunk: What is a Load Balancer in OCI?\n",
      "The OCI Load Balancer is a fully managed, highly available service t...\n"
     ]
    }
   ],
   "source": [
    "## Method 1: Character-based splitting\n",
    "print(\" CHARACTER TEXT SPLITTER \")\n",
    "char_splitter = CharacterTextSplitter(\n",
    "    separator=\"\\n\", # Split on newlines\n",
    "    chunk_size=200, # Max chunk size in characters\n",
    "    chunk_overlap=20, # Overlap between chunks\n",
    "    length_function=len # How to measure chunk size\n",
    ")\n",
    "\n",
    "char_chunks = char_splitter.split_text(text)\n",
    "print(f\"Created {len(char_chunks)} document\")\n",
    "print(f\"First chunk: {char_chunks[0][:100]}...\")"
   ]
  },
  {
   "cell_type": "code",
   "execution_count": 26,
   "id": "4824b5e6",
   "metadata": {},
   "outputs": [
    {
     "name": "stdout",
     "output_type": "stream",
     "text": [
      "Created 3 document\n",
      "First chunk: What is a Load Balancer in OCI?...\n"
     ]
    }
   ],
   "source": [
    "# Method 2: Recursive character text splitter (RECOMMENDED)\n",
    "\n",
    "recursive_splitter = RecursiveCharacterTextSplitter(\n",
    "    separators=[\"\\n\\n\", \"\\n\", \" \", \"\"], # Try these separators in order\n",
    "    chunk_size=200, # Max chunk size in characters\n",
    "    chunk_overlap=20, # Overlap between chunks\n",
    "    length_function=len # How to measure chunk size\n",
    ")\n",
    "\n",
    "recursive_chunks = recursive_splitter.split_text(text)\n",
    "print(f\"Created {len(recursive_chunks)} document\")\n",
    "print(f\"First chunk: {recursive_chunks[0][:100]}...\")"
   ]
  },
  {
   "cell_type": "code",
   "execution_count": 29,
   "id": "0bb017a5",
   "metadata": {},
   "outputs": [
    {
     "name": "stdout",
     "output_type": "stream",
     "text": [
      "Created 2 chunks\n",
      "First chunk: What is a Load Balancer in OCI?\n",
      "\n",
      "The OCI Load Balancer is a fully managed, highly available service ...\n"
     ]
    }
   ],
   "source": [
    "# Method 2: token based splitting\n",
    "\n",
    "token_splitter = TokenTextSplitter(\n",
    "    chunk_size=50, # Size in tokens not characters\n",
    "    chunk_overlap=10, # Overlap between chunks\n",
    ")\n",
    "\n",
    "token_chunks = token_splitter.split_text(text)\n",
    "print(f\"Created {len(token_chunks)} chunks\")\n",
    "print(f\"First chunk: {token_chunks[0][:100]}...\")"
   ]
  },
  {
   "cell_type": "code",
   "execution_count": null,
   "id": "8c97c9fb",
   "metadata": {},
   "outputs": [],
   "source": []
  }
 ],
 "metadata": {
  "kernelspec": {
   "display_name": "RAGCourse (3.13.5)",
   "language": "python",
   "name": "python3"
  },
  "language_info": {
   "codemirror_mode": {
    "name": "ipython",
    "version": 3
   },
   "file_extension": ".py",
   "mimetype": "text/x-python",
   "name": "python",
   "nbconvert_exporter": "python",
   "pygments_lexer": "ipython3",
   "version": "3.13.5"
  }
 },
 "nbformat": 4,
 "nbformat_minor": 5
}
